{
 "cells": [
  {
   "cell_type": "code",
   "execution_count": 26,
   "metadata": {
    "_cell_guid": "b1076dfc-b9ad-4769-8c92-a6c4dae69d19",
    "_uuid": "8f2839f25d086af736a60e9eeb907d3b93b6e0e5",
    "execution": {
     "iopub.execute_input": "2022-07-29T22:15:12.30881Z",
     "iopub.status.busy": "2022-07-29T22:15:12.308357Z",
     "iopub.status.idle": "2022-07-29T22:15:23.643695Z",
     "shell.execute_reply": "2022-07-29T22:15:23.642599Z",
     "shell.execute_reply.started": "2022-07-29T22:15:12.308713Z"
    },
    "trusted": true,
    "ExecuteTime": {
     "end_time": "2023-10-15T20:04:40.160892500Z",
     "start_time": "2023-10-15T20:04:40.147244900Z"
    }
   },
   "outputs": [],
   "source": [
    "import numpy as np\n",
    "import pandas as pd\n",
    "import matplotlib.pyplot as plt\n",
    "import cv2\n"
   ]
  },
  {
   "cell_type": "code",
   "execution_count": 27,
   "metadata": {
    "execution": {
     "iopub.execute_input": "2022-07-29T22:15:23.646008Z",
     "iopub.status.busy": "2022-07-29T22:15:23.645452Z",
     "iopub.status.idle": "2022-07-29T22:15:28.645545Z",
     "shell.execute_reply": "2022-07-29T22:15:28.644598Z",
     "shell.execute_reply.started": "2022-07-29T22:15:23.645979Z"
    },
    "trusted": true,
    "ExecuteTime": {
     "end_time": "2023-10-15T20:04:41.588693800Z",
     "start_time": "2023-10-15T20:04:40.163963900Z"
    }
   },
   "outputs": [
    {
     "data": {
      "text/plain": "   label  pixel0  pixel1  pixel2  pixel3  pixel4  pixel5  pixel6  pixel7  \\\n0      1       0       0       0       0       0       0       0       0   \n1      0       0       0       0       0       0       0       0       0   \n2      1       0       0       0       0       0       0       0       0   \n3      4       0       0       0       0       0       0       0       0   \n4      0       0       0       0       0       0       0       0       0   \n\n   pixel8  ...  pixel774  pixel775  pixel776  pixel777  pixel778  pixel779  \\\n0       0  ...         0         0         0         0         0         0   \n1       0  ...         0         0         0         0         0         0   \n2       0  ...         0         0         0         0         0         0   \n3       0  ...         0         0         0         0         0         0   \n4       0  ...         0         0         0         0         0         0   \n\n   pixel780  pixel781  pixel782  pixel783  \n0         0         0         0         0  \n1         0         0         0         0  \n2         0         0         0         0  \n3         0         0         0         0  \n4         0         0         0         0  \n\n[5 rows x 785 columns]",
      "text/html": "<div>\n<style scoped>\n    .dataframe tbody tr th:only-of-type {\n        vertical-align: middle;\n    }\n\n    .dataframe tbody tr th {\n        vertical-align: top;\n    }\n\n    .dataframe thead th {\n        text-align: right;\n    }\n</style>\n<table border=\"1\" class=\"dataframe\">\n  <thead>\n    <tr style=\"text-align: right;\">\n      <th></th>\n      <th>label</th>\n      <th>pixel0</th>\n      <th>pixel1</th>\n      <th>pixel2</th>\n      <th>pixel3</th>\n      <th>pixel4</th>\n      <th>pixel5</th>\n      <th>pixel6</th>\n      <th>pixel7</th>\n      <th>pixel8</th>\n      <th>...</th>\n      <th>pixel774</th>\n      <th>pixel775</th>\n      <th>pixel776</th>\n      <th>pixel777</th>\n      <th>pixel778</th>\n      <th>pixel779</th>\n      <th>pixel780</th>\n      <th>pixel781</th>\n      <th>pixel782</th>\n      <th>pixel783</th>\n    </tr>\n  </thead>\n  <tbody>\n    <tr>\n      <th>0</th>\n      <td>1</td>\n      <td>0</td>\n      <td>0</td>\n      <td>0</td>\n      <td>0</td>\n      <td>0</td>\n      <td>0</td>\n      <td>0</td>\n      <td>0</td>\n      <td>0</td>\n      <td>...</td>\n      <td>0</td>\n      <td>0</td>\n      <td>0</td>\n      <td>0</td>\n      <td>0</td>\n      <td>0</td>\n      <td>0</td>\n      <td>0</td>\n      <td>0</td>\n      <td>0</td>\n    </tr>\n    <tr>\n      <th>1</th>\n      <td>0</td>\n      <td>0</td>\n      <td>0</td>\n      <td>0</td>\n      <td>0</td>\n      <td>0</td>\n      <td>0</td>\n      <td>0</td>\n      <td>0</td>\n      <td>0</td>\n      <td>...</td>\n      <td>0</td>\n      <td>0</td>\n      <td>0</td>\n      <td>0</td>\n      <td>0</td>\n      <td>0</td>\n      <td>0</td>\n      <td>0</td>\n      <td>0</td>\n      <td>0</td>\n    </tr>\n    <tr>\n      <th>2</th>\n      <td>1</td>\n      <td>0</td>\n      <td>0</td>\n      <td>0</td>\n      <td>0</td>\n      <td>0</td>\n      <td>0</td>\n      <td>0</td>\n      <td>0</td>\n      <td>0</td>\n      <td>...</td>\n      <td>0</td>\n      <td>0</td>\n      <td>0</td>\n      <td>0</td>\n      <td>0</td>\n      <td>0</td>\n      <td>0</td>\n      <td>0</td>\n      <td>0</td>\n      <td>0</td>\n    </tr>\n    <tr>\n      <th>3</th>\n      <td>4</td>\n      <td>0</td>\n      <td>0</td>\n      <td>0</td>\n      <td>0</td>\n      <td>0</td>\n      <td>0</td>\n      <td>0</td>\n      <td>0</td>\n      <td>0</td>\n      <td>...</td>\n      <td>0</td>\n      <td>0</td>\n      <td>0</td>\n      <td>0</td>\n      <td>0</td>\n      <td>0</td>\n      <td>0</td>\n      <td>0</td>\n      <td>0</td>\n      <td>0</td>\n    </tr>\n    <tr>\n      <th>4</th>\n      <td>0</td>\n      <td>0</td>\n      <td>0</td>\n      <td>0</td>\n      <td>0</td>\n      <td>0</td>\n      <td>0</td>\n      <td>0</td>\n      <td>0</td>\n      <td>0</td>\n      <td>...</td>\n      <td>0</td>\n      <td>0</td>\n      <td>0</td>\n      <td>0</td>\n      <td>0</td>\n      <td>0</td>\n      <td>0</td>\n      <td>0</td>\n      <td>0</td>\n      <td>0</td>\n    </tr>\n  </tbody>\n</table>\n<p>5 rows × 785 columns</p>\n</div>"
     },
     "execution_count": 27,
     "metadata": {},
     "output_type": "execute_result"
    }
   ],
   "source": [
    "data = pd.read_csv(\"../data/raw.csv\")\n",
    "data.head()"
   ]
  },
  {
   "cell_type": "code",
   "execution_count": 28,
   "metadata": {
    "ExecuteTime": {
     "end_time": "2023-10-15T20:09:59.231358400Z",
     "start_time": "2023-10-15T20:04:41.659415200Z"
    }
   },
   "outputs": [],
   "source": [
    "# Số lần nhân bản\n",
    "n_augmentations = 1\n",
    "\n",
    "augmented_data = []\n",
    "\n",
    "for index, row in data.iterrows():\n",
    "    # Lấy cột label\n",
    "    label = row['label']\n",
    "\n",
    "    # Lấy các giá trị pixel từ hàng hiện tại\n",
    "    pixels = row.drop('label').values\n",
    "    original_image = pixels.reshape(28, 28).astype(np.uint8)\n",
    "\n",
    "    for i in range(n_augmentations):\n",
    "        # Tạo một bản sao của ảnh\n",
    "        augmented_image = original_image.copy()\n",
    "\n",
    "        # Ngẫu nhiên xoay ảnh trong khoảng -5 đến 5 độ\n",
    "        rotation_angle = np.random.uniform(-5, 5)\n",
    "        rotation_matrix = cv2.getRotationMatrix2D((original_image.shape[1] / 2, original_image.shape[0] / 2), rotation_angle, 1)\n",
    "        augmented_image = cv2.warpAffine(augmented_image, rotation_matrix, (original_image.shape[1], original_image.shape[0]))\n",
    "\n",
    "        # Ngẫu nhiên thay đổi tỷ lệ zoom\n",
    "        zoom_factor = np.random.uniform(0.9, 1.1)\n",
    "        augmented_image = cv2.resize(augmented_image, None, fx=zoom_factor, fy=zoom_factor, interpolation=cv2.INTER_LINEAR)\n",
    "\n",
    "        # Ngẫu nhiên dịch ảnh dọc\n",
    "        vertical_shift = np.random.uniform(-0.1, 0.1)\n",
    "        vertical_pixels = int(vertical_shift * original_image.shape[0])\n",
    "        transformation_matrix = np.float32([[1, 0, 0], [0, 1, vertical_pixels]])\n",
    "        augmented_image = cv2.warpAffine(augmented_image, transformation_matrix, (original_image.shape[1], original_image.shape[0]))\n",
    "\n",
    "        # Ngẫu nhiên lật ảnh theo chiều ngang\n",
    "        if np.random.random() > 0.5:\n",
    "            augmented_image = np.fliplr(augmented_image)\n",
    "\n",
    "        # Ngẫu nhiên lật ảnh theo chiều dọc\n",
    "        if np.random.random() > 0.5:\n",
    "            augmented_image = np.flipud(augmented_image)\n",
    "\n",
    "        # Ngẫu nhiên làm mờ hoặc tạo nhiễu một vài góc nhỏ của ảnh\n",
    "        # if np.random.random() > 0.5:\n",
    "        #     x, y = np.random.randint(0, augmented_image.shape[1] - 15), np.random.randint(0, augmented_image.shape[0] - 15)\n",
    "        #     size = np.random.randint(5, 15)\n",
    "        #     if x >= 0 and y >= 0:\n",
    "        #         augmented_image[y:y+size, x:x+size] = np.random.randint(0, 256, size=(size, size))\n",
    "\n",
    "\n",
    "        # Thêm dữ liệu mới vào danh sách augmented_data\n",
    "        augmented_data.append(np.insert(augmented_image.flatten(), 0, label))\n",
    "\n",
    "\n",
    "# Tạo DataFrame mới từ dữ liệu đã được nhân bản và biến đổi\n",
    "augmented_df = pd.DataFrame(augmented_data, columns=data.columns)"
   ]
  },
  {
   "cell_type": "code",
   "execution_count": 29,
   "metadata": {
    "ExecuteTime": {
     "end_time": "2023-10-15T20:09:59.270240100Z",
     "start_time": "2023-10-15T20:09:59.231358400Z"
    }
   },
   "outputs": [
    {
     "data": {
      "text/plain": "(42000, 784)"
     },
     "execution_count": 29,
     "metadata": {},
     "output_type": "execute_result"
    }
   ],
   "source": [
    "X = augmented_df.iloc[:, 1:]\n",
    "Y = augmented_df.iloc[:, 0]\n",
    "X.shape"
   ]
  },
  {
   "cell_type": "code",
   "execution_count": 30,
   "metadata": {
    "execution": {
     "iopub.execute_input": "2022-07-29T22:15:28.92092Z",
     "iopub.status.busy": "2022-07-29T22:15:28.920508Z",
     "iopub.status.idle": "2022-07-29T22:15:28.935748Z",
     "shell.execute_reply": "2022-07-29T22:15:28.934856Z",
     "shell.execute_reply.started": "2022-07-29T22:15:28.920891Z"
    },
    "trusted": true,
    "ExecuteTime": {
     "end_time": "2023-10-15T20:09:59.307507Z",
     "start_time": "2023-10-15T20:09:59.267521400Z"
    }
   },
   "outputs": [
    {
     "data": {
      "text/plain": "array([[0., 1., 0., ..., 0., 0., 0.],\n       [1., 0., 0., ..., 0., 0., 0.],\n       [0., 1., 0., ..., 0., 0., 0.],\n       ...,\n       [0., 0., 0., ..., 1., 0., 0.],\n       [0., 0., 0., ..., 0., 0., 0.],\n       [0., 0., 0., ..., 0., 0., 1.]])"
     },
     "execution_count": 30,
     "metadata": {},
     "output_type": "execute_result"
    }
   ],
   "source": [
    "one_hot_y = np.eye(10)[Y]\n",
    "one_hot_y"
   ]
  },
  {
   "cell_type": "code",
   "execution_count": 31,
   "outputs": [],
   "source": [
    "Y = one_hot_y"
   ],
   "metadata": {
    "collapsed": false,
    "ExecuteTime": {
     "end_time": "2023-10-15T20:09:59.339307300Z",
     "start_time": "2023-10-15T20:09:59.311258900Z"
    }
   }
  },
  {
   "cell_type": "code",
   "execution_count": 32,
   "metadata": {
    "ExecuteTime": {
     "end_time": "2023-10-15T20:09:59.376621400Z",
     "start_time": "2023-10-15T20:09:59.339307300Z"
    }
   },
   "outputs": [
    {
     "data": {
      "text/plain": "((42000, 784), (42000, 10))"
     },
     "execution_count": 32,
     "metadata": {},
     "output_type": "execute_result"
    }
   ],
   "source": [
    "X.shape, Y.shape"
   ]
  },
  {
   "cell_type": "code",
   "execution_count": 33,
   "metadata": {
    "ExecuteTime": {
     "end_time": "2023-10-15T20:09:59.386358600Z",
     "start_time": "2023-10-15T20:09:59.376621400Z"
    }
   },
   "outputs": [
    {
     "data": {
      "text/plain": "(42000, 28, 28, 1)"
     },
     "execution_count": 33,
     "metadata": {},
     "output_type": "execute_result"
    }
   ],
   "source": [
    "X = X.to_numpy().reshape(-1,28,28,1)\n",
    "X.shape"
   ]
  },
  {
   "cell_type": "code",
   "execution_count": 34,
   "metadata": {
    "ExecuteTime": {
     "end_time": "2023-10-15T20:09:59.744777200Z",
     "start_time": "2023-10-15T20:09:59.391010400Z"
    }
   },
   "outputs": [
    {
     "data": {
      "text/plain": "<Figure size 640x480 with 1 Axes>",
      "image/png": "[encoded data removed]"
     },
     "metadata": {},
     "output_type": "display_data"
    }
   ],
   "source": [
    "plt.imshow(X[3], cmap=plt.cm.binary)\n",
    "plt.show()"
   ]
  },
  {
   "cell_type": "code",
   "execution_count": 35,
   "metadata": {
    "execution": {
     "iopub.execute_input": "2022-07-29T22:15:30.341661Z",
     "iopub.status.busy": "2022-07-29T22:15:30.341345Z",
     "iopub.status.idle": "2022-07-29T22:15:30.346728Z",
     "shell.execute_reply": "2022-07-29T22:15:30.345633Z",
     "shell.execute_reply.started": "2022-07-29T22:15:30.341634Z"
    },
    "trusted": true,
    "ExecuteTime": {
     "end_time": "2023-10-15T20:10:00.805293800Z",
     "start_time": "2023-10-15T20:09:59.749393100Z"
    }
   },
   "outputs": [
    {
     "data": {
      "text/plain": "<Figure size 1000x1000 with 20 Axes>",
      "image/png": "[encoded data removed]"
     },
     "metadata": {},
     "output_type": "display_data"
    }
   ],
   "source": [
    "import math\n",
    "numbers_to_display = 20\n",
    "num_cells = math.ceil(math.sqrt(numbers_to_display))\n",
    "\n",
    "plt.figure(figsize = (10, 10))\n",
    "for i in range(numbers_to_display):\n",
    "    plt.subplot(num_cells, num_cells, i + 1)\n",
    "    plt.xticks([])\n",
    "    plt.yticks([])\n",
    "    plt.imshow(X[i], cmap=plt.cm.binary)\n",
    "    plt.xlabel(np.argmax(Y[i]))\n",
    "# plt.show()"
   ]
  },
  {
   "cell_type": "code",
   "execution_count": 36,
   "metadata": {
    "ExecuteTime": {
     "end_time": "2023-10-15T20:10:08.241901400Z",
     "start_time": "2023-10-15T20:10:00.807285400Z"
    }
   },
   "outputs": [],
   "source": [
    "augmented_df.to_csv('../data/random_transform.csv', index=False)"
   ]
  }
 ],
 "metadata": {
  "kernelspec": {
   "display_name": "Python 3",
   "language": "python",
   "name": "python3"
  },
  "language_info": {
   "codemirror_mode": {
    "name": "ipython",
    "version": 3
   },
   "file_extension": ".py",
   "mimetype": "text/x-python",
   "name": "python",
   "nbconvert_exporter": "python",
   "pygments_lexer": "ipython3",
   "version": "3.10.11"
  }
 },
 "nbformat": 4,
 "nbformat_minor": 4
}
